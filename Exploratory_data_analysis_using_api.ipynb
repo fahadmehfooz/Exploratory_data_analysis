{
 "cells": [
  {
   "cell_type": "code",
   "execution_count": 9,
   "metadata": {},
   "outputs": [],
   "source": [
    "import requests\n",
    "import pandas as pd\n",
    "from sklearn import metrics\n",
    "from sklearn.preprocessing import LabelEncoder\n",
    "from sklearn.neighbors import KNeighborsClassifier\n",
    "from sklearn.model_selection import train_test_split\n",
    "import pandas as pd\n",
    "from sklearn import preprocessing\n",
    "import numpy as np\n",
    "import seaborn as sns \n",
    "import matplotlib.pyplot as plt \n",
    "%matplotlib inline \n",
    "sns.set(color_codes=True)"
   ]
  },
  {
   "cell_type": "code",
   "execution_count": 4,
   "metadata": {},
   "outputs": [],
   "source": [
    "#Gathering stations for which data has to be fetched from api\n",
    "mumbai_stations=['us-consulate','bandra','nmmc-airoli','vile-parle-west','colaba','kurla','worli','chhatrapati-shivaji-intl.-airport-t2','vasai-west']\n",
    "delhi_stations=['','jawaharlal-nehru-stadium','mother-dairy-plant--parparganj','shaheed-sukhdev-college-of-business-studies--rohini','iti-shahdra--jhilmil-industrial-area','pooth-khurd--bawana','mundka','sonia-vihar-water-treatment-plant-djb','lodhi-road','siri-fort','pgdav-college--sriniwaspuri','crri-mathura-road','dite-okhla','dr.-karni-singh-shooting-range','major-dhyan-chand-national-stadium','punjabi-bagh','dwarka','igi-airport-terminal-3','national-institute-of-malaria-research--sector-8--dwarka','igi-airport','ito','alipur','narela','iti-jahangirpuri','burari-crossing','satyawati-college','delhi-institute-of-tool-engineering--wazirpur','north-campus','anand-vihar']\n",
    "noida_stations=['sector-125','sector-116','sector-62','sector-1']\n",
    "lucknow_stations=['talkatora','central-school']\n",
    "bangalore_stations=['city-railway-station','saneguravahalli','peenya','btm','bwssb']\n",
    "Kolkata_station=['us-consulate','victoria','rabindra-bharati-university','jadavpur','fort-william','bidhannagar','ballygunge']\n",
    "patna_stations=['muradpur','rajbansi-nagar','samanpura','govt.-high-school-shikarpur','igsc-planetarium-complex']\n",
    "Indore_stations=['chhoti-gwaltoli'] \n",
    "gzb_stations=['sanjay-nagar','vasundhara','indirapuram','loni']\n",
    "meerut_stations=['pallavpuram-phase-2','ganga-nagar','jai-bhim-nagar']\n",
    "jaipur_stations=['shastri-nagar','police-commissionerate','adarsh-nagar','vk-industrial-area-jaipur']\n",
    "jodhpur_stations=['jodhpur','collectorate-jodhpur']\n",
    "howrah_stations=['padmapukur','ghusuri','belur-math']\n",
    "fbd_stations=['sector16a-faridabad','sector-30']\n",
    "gur_stations=['nise-gwal-pahari','sector-51','teri-gram']\n",
    "beng_stations=['jayanagar-5th-block','hebbal','silk-board','jayanagar-5th-block','hombegowda-nagar','bapuji-nagar','bwssb-kadabesanahalli']\n",
    "pune_stations=['bhumkar-chowk','nigdi','bhosari','alandi','lohegaon','hadapsar','manjri','shivajinagar','katraj','karve-road-pune']\n",
    "bul_stations=['yamunapuram']\n",
    "\n",
    "#Certain api's have different endpoints for e.g delhi and pune\n",
    "delhi_api='delhi'\n",
    "mumbai_api='india/mumbai'\n",
    "noida_api='india/noida'\n",
    "lucknow_api='india/lucknow'\n",
    "bangalore_api='india/bangalore'\n",
    "Kolkata_api='india/kolkata'\n",
    "patna_api='india/patna'\n",
    "indore_api='india/indore'\n",
    "gzb_api='india/ghaziabad'\n",
    "meerut_api='india/meerut'\n",
    "jaipur_api='india/jaipur'\n",
    "jodhpur_api='india/jodhpur'\n",
    "howrah_api='india/howrah'\n",
    "fbd_api='india/faridabad'\n",
    "gur_api='india/gurugram'\n",
    "pune_api='pune'\n",
    "beng_api='india/bengaluru'\n",
    "bul_api='india/bulandshahr'"
   ]
  },
  {
   "cell_type": "code",
   "execution_count": 5,
   "metadata": {},
   "outputs": [],
   "source": [
    "#for generating dataframe from json objects fetched from api\n",
    "def generate_df(state_api,stations,City):\n",
    "    df1=pd.DataFrame()\n",
    "    for i in range(len(stations)):\n",
    "        r=requests.get(f\"https://api.waqi.info/feed/{state_api}/{stations[i]}/?token=b1962fea1af8060d8982ec2ad356fe3c330b0e2a\")\n",
    "    \n",
    "        data=r.json()\n",
    "        x=data['data']\n",
    "       \n",
    "        df=pd.DataFrame(x['iaqi'])\n",
    "        df=df.rename( index={'v': '0'})\n",
    "        df['city']=City\n",
    "        df1=pd.concat([df1,df],ignore_index=True)\n",
    "        \n",
    "    return df1"
   ]
  },
  {
   "cell_type": "code",
   "execution_count": 6,
   "metadata": {},
   "outputs": [],
   "source": [
    "#declaring an empty dataframe in which all other dataframes will be merged\n",
    "combined_df=pd.DataFrame()#for generating dataframe from json objects fetched from api\n",
    "def generate_df(state_api,stations,City):\n",
    "    df1=pd.DataFrame()\n",
    "    for i in range(len(stations)):\n",
    "        r=requests.get(f\"https://api.waqi.info/feed/{state_api}/{stations[i]}/?token=b1962fea1af8060d8982ec2ad356fe3c330b0e2a\")\n",
    "    \n",
    "        data=r.json()\n",
    "        x=data['data']\n",
    "       \n",
    "        df=pd.DataFrame(x['iaqi'])\n",
    "        df=df.rename( index={'v': '0'})\n",
    "        df['city']=City\n",
    "        df1=pd.concat([df1,df],ignore_index=True)\n",
    "        \n",
    "    return df1\n",
    "\n",
    "mumbai_df=generate_df(mumbai_api,mumbai_stations,'mumbai')\n",
    "delhi_df=generate_df(delhi_api,delhi_stations,'delhi')\n",
    "noida_df=generate_df(noida_api,noida_stations,'noida')\n",
    "lucknow_df=generate_df(lucknow_api,lucknow_stations,'lucknow')\n",
    "bangalore_df=generate_df(bangalore_api,bangalore_stations,'bangalore')\n",
    "kolkata_df=generate_df(Kolkata_api,Kolkata_station,'kolkata')\n",
    "patna_df=generate_df(patna_api,patna_stations,'patna')\n",
    "indore_df=generate_df(indore_api,Indore_stations,'indore')\n",
    "gzb_df=generate_df(gzb_api,gzb_stations,'ghaziabad')\n",
    "meerut_df=generate_df(meerut_api,meerut_stations,'meerut')\n",
    "jaipur_df=generate_df(jaipur_api,jaipur_stations,'jaipur')\n",
    "jodhpur_df=generate_df(jodhpur_api,jodhpur_stations,'jodhpur')\n",
    "howrah_df=generate_df(howrah_api,howrah_stations,'kolkata')\n",
    "fbd_df=generate_df(fbd_api,fbd_stations,'faridabad')\n",
    "gur_df=generate_df(gur_api,gur_stations,'gurugram')\n",
    "pun_df=generate_df(pune_api,pune_stations,'pune')\n",
    "beng_df=generate_df(beng_api,beng_stations,'bangalore')\n",
    "bul_df=generate_df(bul_api,bul_stations,'bulandsheher')\n",
    "\n",
    "#Dataframes will be merged\n",
    "combined_df=pd.concat([combined_df,mumbai_df,delhi_df,noida_df,lucknow_df,bangalore_df,kolkata_df,patna_df,indore_df,gzb_df,meerut_df,jaipur_df,jodhpur_df,howrah_df,fbd_df,gur_df,pun_df,beng_df,bul_df],ignore_index=True)\n"
   ]
  },
  {
   "cell_type": "code",
   "execution_count": 7,
   "metadata": {},
   "outputs": [
    {
     "data": {
      "text/html": [
       "<div>\n",
       "<style scoped>\n",
       "    .dataframe tbody tr th:only-of-type {\n",
       "        vertical-align: middle;\n",
       "    }\n",
       "\n",
       "    .dataframe tbody tr th {\n",
       "        vertical-align: top;\n",
       "    }\n",
       "\n",
       "    .dataframe thead th {\n",
       "        text-align: right;\n",
       "    }\n",
       "</style>\n",
       "<table border=\"1\" class=\"dataframe\">\n",
       "  <thead>\n",
       "    <tr style=\"text-align: right;\">\n",
       "      <th></th>\n",
       "      <th>dew</th>\n",
       "      <th>h</th>\n",
       "      <th>p</th>\n",
       "      <th>pm25</th>\n",
       "      <th>t</th>\n",
       "      <th>w</th>\n",
       "      <th>wg</th>\n",
       "      <th>city</th>\n",
       "      <th>co</th>\n",
       "      <th>no2</th>\n",
       "      <th>o3</th>\n",
       "      <th>pm10</th>\n",
       "      <th>so2</th>\n",
       "      <th>wd</th>\n",
       "      <th>r</th>\n",
       "    </tr>\n",
       "  </thead>\n",
       "  <tbody>\n",
       "    <tr>\n",
       "      <th>0</th>\n",
       "      <td>27.0</td>\n",
       "      <td>72.500000</td>\n",
       "      <td>1005.000</td>\n",
       "      <td>59.0</td>\n",
       "      <td>32.500000</td>\n",
       "      <td>5.1000</td>\n",
       "      <td>20.0</td>\n",
       "      <td>mumbai</td>\n",
       "      <td>NaN</td>\n",
       "      <td>NaN</td>\n",
       "      <td>NaN</td>\n",
       "      <td>NaN</td>\n",
       "      <td>NaN</td>\n",
       "      <td>NaN</td>\n",
       "      <td>NaN</td>\n",
       "    </tr>\n",
       "    <tr>\n",
       "      <th>1</th>\n",
       "      <td>27.0</td>\n",
       "      <td>68.100000</td>\n",
       "      <td>763.425</td>\n",
       "      <td>23.0</td>\n",
       "      <td>34.620000</td>\n",
       "      <td>0.1600</td>\n",
       "      <td>20.0</td>\n",
       "      <td>mumbai</td>\n",
       "      <td>8.5</td>\n",
       "      <td>0.6</td>\n",
       "      <td>4.8</td>\n",
       "      <td>27.0</td>\n",
       "      <td>4.7</td>\n",
       "      <td>NaN</td>\n",
       "      <td>NaN</td>\n",
       "    </tr>\n",
       "    <tr>\n",
       "      <th>2</th>\n",
       "      <td>22.0</td>\n",
       "      <td>70.311125</td>\n",
       "      <td>1011.000</td>\n",
       "      <td>NaN</td>\n",
       "      <td>11.441122</td>\n",
       "      <td>0.7000</td>\n",
       "      <td>NaN</td>\n",
       "      <td>mumbai</td>\n",
       "      <td>13.4</td>\n",
       "      <td>NaN</td>\n",
       "      <td>NaN</td>\n",
       "      <td>37.0</td>\n",
       "      <td>19.8</td>\n",
       "      <td>NaN</td>\n",
       "      <td>NaN</td>\n",
       "    </tr>\n",
       "    <tr>\n",
       "      <th>3</th>\n",
       "      <td>27.0</td>\n",
       "      <td>70.500000</td>\n",
       "      <td>1003.330</td>\n",
       "      <td>45.0</td>\n",
       "      <td>32.500000</td>\n",
       "      <td>1.0400</td>\n",
       "      <td>20.0</td>\n",
       "      <td>mumbai</td>\n",
       "      <td>1.7</td>\n",
       "      <td>0.4</td>\n",
       "      <td>6.1</td>\n",
       "      <td>47.0</td>\n",
       "      <td>4.9</td>\n",
       "      <td>NaN</td>\n",
       "      <td>NaN</td>\n",
       "    </tr>\n",
       "    <tr>\n",
       "      <th>4</th>\n",
       "      <td>22.0</td>\n",
       "      <td>93.655000</td>\n",
       "      <td>1004.375</td>\n",
       "      <td>16.0</td>\n",
       "      <td>24.000000</td>\n",
       "      <td>2.4225</td>\n",
       "      <td>9.7</td>\n",
       "      <td>mumbai</td>\n",
       "      <td>3.3</td>\n",
       "      <td>2.9</td>\n",
       "      <td>14.1</td>\n",
       "      <td>15.0</td>\n",
       "      <td>1.7</td>\n",
       "      <td>NaN</td>\n",
       "      <td>NaN</td>\n",
       "    </tr>\n",
       "    <tr>\n",
       "      <th>...</th>\n",
       "      <td>...</td>\n",
       "      <td>...</td>\n",
       "      <td>...</td>\n",
       "      <td>...</td>\n",
       "      <td>...</td>\n",
       "      <td>...</td>\n",
       "      <td>...</td>\n",
       "      <td>...</td>\n",
       "      <td>...</td>\n",
       "      <td>...</td>\n",
       "      <td>...</td>\n",
       "      <td>...</td>\n",
       "      <td>...</td>\n",
       "      <td>...</td>\n",
       "      <td>...</td>\n",
       "    </tr>\n",
       "    <tr>\n",
       "      <th>96</th>\n",
       "      <td>19.0</td>\n",
       "      <td>56.000000</td>\n",
       "      <td>710.000</td>\n",
       "      <td>72.0</td>\n",
       "      <td>29.800000</td>\n",
       "      <td>1.6000</td>\n",
       "      <td>NaN</td>\n",
       "      <td>bangalore</td>\n",
       "      <td>4.5</td>\n",
       "      <td>5.1</td>\n",
       "      <td>12.5</td>\n",
       "      <td>47.0</td>\n",
       "      <td>2.9</td>\n",
       "      <td>NaN</td>\n",
       "      <td>NaN</td>\n",
       "    </tr>\n",
       "    <tr>\n",
       "      <th>97</th>\n",
       "      <td>20.0</td>\n",
       "      <td>60.000000</td>\n",
       "      <td>710.000</td>\n",
       "      <td>70.0</td>\n",
       "      <td>22.800000</td>\n",
       "      <td>2.4000</td>\n",
       "      <td>NaN</td>\n",
       "      <td>bangalore</td>\n",
       "      <td>4.8</td>\n",
       "      <td>2.8</td>\n",
       "      <td>8.5</td>\n",
       "      <td>47.0</td>\n",
       "      <td>5.8</td>\n",
       "      <td>NaN</td>\n",
       "      <td>NaN</td>\n",
       "    </tr>\n",
       "    <tr>\n",
       "      <th>98</th>\n",
       "      <td>20.0</td>\n",
       "      <td>55.000000</td>\n",
       "      <td>718.000</td>\n",
       "      <td>42.0</td>\n",
       "      <td>19.900000</td>\n",
       "      <td>2.4000</td>\n",
       "      <td>NaN</td>\n",
       "      <td>bangalore</td>\n",
       "      <td>5.3</td>\n",
       "      <td>13.1</td>\n",
       "      <td>11.7</td>\n",
       "      <td>40.0</td>\n",
       "      <td>2.3</td>\n",
       "      <td>NaN</td>\n",
       "      <td>NaN</td>\n",
       "    </tr>\n",
       "    <tr>\n",
       "      <th>99</th>\n",
       "      <td>20.0</td>\n",
       "      <td>55.260000</td>\n",
       "      <td>913.450</td>\n",
       "      <td>32.0</td>\n",
       "      <td>29.000000</td>\n",
       "      <td>0.8050</td>\n",
       "      <td>NaN</td>\n",
       "      <td>bangalore</td>\n",
       "      <td>10.1</td>\n",
       "      <td>4.4</td>\n",
       "      <td>6.9</td>\n",
       "      <td>NaN</td>\n",
       "      <td>3.5</td>\n",
       "      <td>NaN</td>\n",
       "      <td>NaN</td>\n",
       "    </tr>\n",
       "    <tr>\n",
       "      <th>100</th>\n",
       "      <td>21.5</td>\n",
       "      <td>46.000000</td>\n",
       "      <td>743.000</td>\n",
       "      <td>76.0</td>\n",
       "      <td>32.400000</td>\n",
       "      <td>2.1000</td>\n",
       "      <td>10.2</td>\n",
       "      <td>bulandsheher</td>\n",
       "      <td>4.0</td>\n",
       "      <td>3.5</td>\n",
       "      <td>38.7</td>\n",
       "      <td>67.0</td>\n",
       "      <td>3.2</td>\n",
       "      <td>NaN</td>\n",
       "      <td>NaN</td>\n",
       "    </tr>\n",
       "  </tbody>\n",
       "</table>\n",
       "<p>101 rows × 15 columns</p>\n",
       "</div>"
      ],
      "text/plain": [
       "      dew          h         p  pm25          t       w    wg          city  \\\n",
       "0    27.0  72.500000  1005.000  59.0  32.500000  5.1000  20.0        mumbai   \n",
       "1    27.0  68.100000   763.425  23.0  34.620000  0.1600  20.0        mumbai   \n",
       "2    22.0  70.311125  1011.000   NaN  11.441122  0.7000   NaN        mumbai   \n",
       "3    27.0  70.500000  1003.330  45.0  32.500000  1.0400  20.0        mumbai   \n",
       "4    22.0  93.655000  1004.375  16.0  24.000000  2.4225   9.7        mumbai   \n",
       "..    ...        ...       ...   ...        ...     ...   ...           ...   \n",
       "96   19.0  56.000000   710.000  72.0  29.800000  1.6000   NaN     bangalore   \n",
       "97   20.0  60.000000   710.000  70.0  22.800000  2.4000   NaN     bangalore   \n",
       "98   20.0  55.000000   718.000  42.0  19.900000  2.4000   NaN     bangalore   \n",
       "99   20.0  55.260000   913.450  32.0  29.000000  0.8050   NaN     bangalore   \n",
       "100  21.5  46.000000   743.000  76.0  32.400000  2.1000  10.2  bulandsheher   \n",
       "\n",
       "       co   no2    o3  pm10   so2  wd   r  \n",
       "0     NaN   NaN   NaN   NaN   NaN NaN NaN  \n",
       "1     8.5   0.6   4.8  27.0   4.7 NaN NaN  \n",
       "2    13.4   NaN   NaN  37.0  19.8 NaN NaN  \n",
       "3     1.7   0.4   6.1  47.0   4.9 NaN NaN  \n",
       "4     3.3   2.9  14.1  15.0   1.7 NaN NaN  \n",
       "..    ...   ...   ...   ...   ...  ..  ..  \n",
       "96    4.5   5.1  12.5  47.0   2.9 NaN NaN  \n",
       "97    4.8   2.8   8.5  47.0   5.8 NaN NaN  \n",
       "98    5.3  13.1  11.7  40.0   2.3 NaN NaN  \n",
       "99   10.1   4.4   6.9   NaN   3.5 NaN NaN  \n",
       "100   4.0   3.5  38.7  67.0   3.2 NaN NaN  \n",
       "\n",
       "[101 rows x 15 columns]"
      ]
     },
     "execution_count": 7,
     "metadata": {},
     "output_type": "execute_result"
    }
   ],
   "source": [
    "combined_df"
   ]
  },
  {
   "cell_type": "code",
   "execution_count": 13,
   "metadata": {},
   "outputs": [],
   "source": [
    "#dropping irrelevant columns\n",
    "combined_df.drop(['dew','t','w','wg','wd','r','p','h'], axis=1, inplace=True)"
   ]
  },
  {
   "cell_type": "code",
   "execution_count": 14,
   "metadata": {},
   "outputs": [
    {
     "data": {
      "text/html": [
       "<div>\n",
       "<style scoped>\n",
       "    .dataframe tbody tr th:only-of-type {\n",
       "        vertical-align: middle;\n",
       "    }\n",
       "\n",
       "    .dataframe tbody tr th {\n",
       "        vertical-align: top;\n",
       "    }\n",
       "\n",
       "    .dataframe thead th {\n",
       "        text-align: right;\n",
       "    }\n",
       "</style>\n",
       "<table border=\"1\" class=\"dataframe\">\n",
       "  <thead>\n",
       "    <tr style=\"text-align: right;\">\n",
       "      <th></th>\n",
       "      <th>pm25</th>\n",
       "      <th>city</th>\n",
       "      <th>co</th>\n",
       "      <th>no2</th>\n",
       "      <th>o3</th>\n",
       "      <th>pm10</th>\n",
       "      <th>so2</th>\n",
       "    </tr>\n",
       "  </thead>\n",
       "  <tbody>\n",
       "    <tr>\n",
       "      <th>0</th>\n",
       "      <td>59.0</td>\n",
       "      <td>mumbai</td>\n",
       "      <td>NaN</td>\n",
       "      <td>NaN</td>\n",
       "      <td>NaN</td>\n",
       "      <td>NaN</td>\n",
       "      <td>NaN</td>\n",
       "    </tr>\n",
       "    <tr>\n",
       "      <th>1</th>\n",
       "      <td>23.0</td>\n",
       "      <td>mumbai</td>\n",
       "      <td>8.5</td>\n",
       "      <td>0.6</td>\n",
       "      <td>4.8</td>\n",
       "      <td>27.0</td>\n",
       "      <td>4.7</td>\n",
       "    </tr>\n",
       "    <tr>\n",
       "      <th>2</th>\n",
       "      <td>NaN</td>\n",
       "      <td>mumbai</td>\n",
       "      <td>13.4</td>\n",
       "      <td>NaN</td>\n",
       "      <td>NaN</td>\n",
       "      <td>37.0</td>\n",
       "      <td>19.8</td>\n",
       "    </tr>\n",
       "    <tr>\n",
       "      <th>3</th>\n",
       "      <td>45.0</td>\n",
       "      <td>mumbai</td>\n",
       "      <td>1.7</td>\n",
       "      <td>0.4</td>\n",
       "      <td>6.1</td>\n",
       "      <td>47.0</td>\n",
       "      <td>4.9</td>\n",
       "    </tr>\n",
       "    <tr>\n",
       "      <th>4</th>\n",
       "      <td>16.0</td>\n",
       "      <td>mumbai</td>\n",
       "      <td>3.3</td>\n",
       "      <td>2.9</td>\n",
       "      <td>14.1</td>\n",
       "      <td>15.0</td>\n",
       "      <td>1.7</td>\n",
       "    </tr>\n",
       "    <tr>\n",
       "      <th>5</th>\n",
       "      <td>34.0</td>\n",
       "      <td>mumbai</td>\n",
       "      <td>1.6</td>\n",
       "      <td>5.0</td>\n",
       "      <td>5.4</td>\n",
       "      <td>69.0</td>\n",
       "      <td>6.8</td>\n",
       "    </tr>\n",
       "    <tr>\n",
       "      <th>6</th>\n",
       "      <td>17.0</td>\n",
       "      <td>mumbai</td>\n",
       "      <td>1.7</td>\n",
       "      <td>0.9</td>\n",
       "      <td>12.4</td>\n",
       "      <td>23.0</td>\n",
       "      <td>2.3</td>\n",
       "    </tr>\n",
       "    <tr>\n",
       "      <th>7</th>\n",
       "      <td>57.0</td>\n",
       "      <td>mumbai</td>\n",
       "      <td>0.6</td>\n",
       "      <td>9.0</td>\n",
       "      <td>2.4</td>\n",
       "      <td>900.0</td>\n",
       "      <td>19.3</td>\n",
       "    </tr>\n",
       "    <tr>\n",
       "      <th>8</th>\n",
       "      <td>5.0</td>\n",
       "      <td>mumbai</td>\n",
       "      <td>1.6</td>\n",
       "      <td>6.0</td>\n",
       "      <td>3.5</td>\n",
       "      <td>29.0</td>\n",
       "      <td>2.9</td>\n",
       "    </tr>\n",
       "    <tr>\n",
       "      <th>9</th>\n",
       "      <td>124.0</td>\n",
       "      <td>delhi</td>\n",
       "      <td>NaN</td>\n",
       "      <td>NaN</td>\n",
       "      <td>NaN</td>\n",
       "      <td>NaN</td>\n",
       "      <td>NaN</td>\n",
       "    </tr>\n",
       "    <tr>\n",
       "      <th>10</th>\n",
       "      <td>129.0</td>\n",
       "      <td>delhi</td>\n",
       "      <td>6.0</td>\n",
       "      <td>5.5</td>\n",
       "      <td>36.8</td>\n",
       "      <td>68.0</td>\n",
       "      <td>9.5</td>\n",
       "    </tr>\n",
       "    <tr>\n",
       "      <th>11</th>\n",
       "      <td>91.0</td>\n",
       "      <td>delhi</td>\n",
       "      <td>3.7</td>\n",
       "      <td>2.7</td>\n",
       "      <td>18.8</td>\n",
       "      <td>49.0</td>\n",
       "      <td>2.2</td>\n",
       "    </tr>\n",
       "    <tr>\n",
       "      <th>12</th>\n",
       "      <td>152.0</td>\n",
       "      <td>delhi</td>\n",
       "      <td>6.4</td>\n",
       "      <td>5.3</td>\n",
       "      <td>13.3</td>\n",
       "      <td>82.0</td>\n",
       "      <td>4.4</td>\n",
       "    </tr>\n",
       "    <tr>\n",
       "      <th>13</th>\n",
       "      <td>124.0</td>\n",
       "      <td>delhi</td>\n",
       "      <td>33.3</td>\n",
       "      <td>7.4</td>\n",
       "      <td>34.1</td>\n",
       "      <td>65.0</td>\n",
       "      <td>9.8</td>\n",
       "    </tr>\n",
       "    <tr>\n",
       "      <th>14</th>\n",
       "      <td>139.0</td>\n",
       "      <td>delhi</td>\n",
       "      <td>5.5</td>\n",
       "      <td>9.1</td>\n",
       "      <td>43.2</td>\n",
       "      <td>79.0</td>\n",
       "      <td>9.0</td>\n",
       "    </tr>\n",
       "    <tr>\n",
       "      <th>15</th>\n",
       "      <td>137.0</td>\n",
       "      <td>delhi</td>\n",
       "      <td>4.2</td>\n",
       "      <td>19.6</td>\n",
       "      <td>38.9</td>\n",
       "      <td>71.0</td>\n",
       "      <td>5.4</td>\n",
       "    </tr>\n",
       "    <tr>\n",
       "      <th>16</th>\n",
       "      <td>107.0</td>\n",
       "      <td>delhi</td>\n",
       "      <td>13.6</td>\n",
       "      <td>10.1</td>\n",
       "      <td>36.9</td>\n",
       "      <td>71.0</td>\n",
       "      <td>5.7</td>\n",
       "    </tr>\n",
       "    <tr>\n",
       "      <th>17</th>\n",
       "      <td>159.0</td>\n",
       "      <td>delhi</td>\n",
       "      <td>0.1</td>\n",
       "      <td>29.7</td>\n",
       "      <td>4.5</td>\n",
       "      <td>134.0</td>\n",
       "      <td>NaN</td>\n",
       "    </tr>\n",
       "    <tr>\n",
       "      <th>18</th>\n",
       "      <td>193.0</td>\n",
       "      <td>delhi</td>\n",
       "      <td>0.1</td>\n",
       "      <td>3.7</td>\n",
       "      <td>33.3</td>\n",
       "      <td>334.0</td>\n",
       "      <td>8.6</td>\n",
       "    </tr>\n",
       "    <tr>\n",
       "      <th>19</th>\n",
       "      <td>137.0</td>\n",
       "      <td>delhi</td>\n",
       "      <td>5.5</td>\n",
       "      <td>7.9</td>\n",
       "      <td>48.9</td>\n",
       "      <td>70.0</td>\n",
       "      <td>7.5</td>\n",
       "    </tr>\n",
       "  </tbody>\n",
       "</table>\n",
       "</div>"
      ],
      "text/plain": [
       "     pm25    city    co   no2    o3   pm10   so2\n",
       "0    59.0  mumbai   NaN   NaN   NaN    NaN   NaN\n",
       "1    23.0  mumbai   8.5   0.6   4.8   27.0   4.7\n",
       "2     NaN  mumbai  13.4   NaN   NaN   37.0  19.8\n",
       "3    45.0  mumbai   1.7   0.4   6.1   47.0   4.9\n",
       "4    16.0  mumbai   3.3   2.9  14.1   15.0   1.7\n",
       "5    34.0  mumbai   1.6   5.0   5.4   69.0   6.8\n",
       "6    17.0  mumbai   1.7   0.9  12.4   23.0   2.3\n",
       "7    57.0  mumbai   0.6   9.0   2.4  900.0  19.3\n",
       "8     5.0  mumbai   1.6   6.0   3.5   29.0   2.9\n",
       "9   124.0   delhi   NaN   NaN   NaN    NaN   NaN\n",
       "10  129.0   delhi   6.0   5.5  36.8   68.0   9.5\n",
       "11   91.0   delhi   3.7   2.7  18.8   49.0   2.2\n",
       "12  152.0   delhi   6.4   5.3  13.3   82.0   4.4\n",
       "13  124.0   delhi  33.3   7.4  34.1   65.0   9.8\n",
       "14  139.0   delhi   5.5   9.1  43.2   79.0   9.0\n",
       "15  137.0   delhi   4.2  19.6  38.9   71.0   5.4\n",
       "16  107.0   delhi  13.6  10.1  36.9   71.0   5.7\n",
       "17  159.0   delhi   0.1  29.7   4.5  134.0   NaN\n",
       "18  193.0   delhi   0.1   3.7  33.3  334.0   8.6\n",
       "19  137.0   delhi   5.5   7.9  48.9   70.0   7.5"
      ]
     },
     "execution_count": 14,
     "metadata": {},
     "output_type": "execute_result"
    }
   ],
   "source": [
    "combined_df.head(20)"
   ]
  },
  {
   "cell_type": "code",
   "execution_count": 19,
   "metadata": {},
   "outputs": [],
   "source": [
    "#handling null values\n",
    "combined_df.isnull().sum()\n",
    "\n",
    "#Replacing null values with mean\n",
    "combined_df['so2']=combined_df['so2'].fillna(combined_df['so2'].mean())\n",
    "combined_df['no2']=combined_df['no2'].fillna(combined_df['no2'].mean())\n",
    "combined_df['pm25']=combined_df['pm25'].fillna(combined_df['pm25'].mean())\n",
    "combined_df['pm10']=combined_df['pm10'].fillna(combined_df['pm10'].mean())\n",
    "\n",
    "combined_df['co']=combined_df['co'].fillna(combined_df['co'].mean())\n",
    "combined_df['o3']=combined_df['o3'].fillna(combined_df['o3'].mean())\n",
    "\n"
   ]
  },
  {
   "cell_type": "code",
   "execution_count": 20,
   "metadata": {},
   "outputs": [
    {
     "data": {
      "text/plain": [
       "pm25    0\n",
       "city    0\n",
       "co      0\n",
       "no2     0\n",
       "o3      0\n",
       "pm10    0\n",
       "so2     0\n",
       "dtype: int64"
      ]
     },
     "execution_count": 20,
     "metadata": {},
     "output_type": "execute_result"
    }
   ],
   "source": [
    "combined_df.isnull().sum()\n"
   ]
  },
  {
   "cell_type": "code",
   "execution_count": 25,
   "metadata": {},
   "outputs": [
    {
     "name": "stdout",
     "output_type": "stream",
     "text": [
      "         pm25       city         co        no2         o3       pm10       so2\n",
      "88  59.000000       pune  52.000000  14.000000  54.000000  53.000000  5.409333\n",
      "89  97.044444       pune   9.507778   9.564045  24.888235  76.780488  5.409333\n",
      "92  97.044444       pune   9.507778   9.564045  24.888235  76.780488  5.409333\n",
      "96  72.000000  bangalore   4.500000   5.100000  12.500000  47.000000  2.900000\n"
     ]
    },
    {
     "data": {
      "text/html": [
       "<div>\n",
       "<style scoped>\n",
       "    .dataframe tbody tr th:only-of-type {\n",
       "        vertical-align: middle;\n",
       "    }\n",
       "\n",
       "    .dataframe tbody tr th {\n",
       "        vertical-align: top;\n",
       "    }\n",
       "\n",
       "    .dataframe thead th {\n",
       "        text-align: right;\n",
       "    }\n",
       "</style>\n",
       "<table border=\"1\" class=\"dataframe\">\n",
       "  <thead>\n",
       "    <tr style=\"text-align: right;\">\n",
       "      <th></th>\n",
       "      <th>pm25</th>\n",
       "      <th>city</th>\n",
       "      <th>co</th>\n",
       "      <th>no2</th>\n",
       "      <th>o3</th>\n",
       "      <th>pm10</th>\n",
       "      <th>so2</th>\n",
       "    </tr>\n",
       "  </thead>\n",
       "  <tbody>\n",
       "    <tr>\n",
       "      <th>0</th>\n",
       "      <td>59.000000</td>\n",
       "      <td>mumbai</td>\n",
       "      <td>9.507778</td>\n",
       "      <td>9.564045</td>\n",
       "      <td>24.888235</td>\n",
       "      <td>76.780488</td>\n",
       "      <td>5.409333</td>\n",
       "    </tr>\n",
       "    <tr>\n",
       "      <th>1</th>\n",
       "      <td>23.000000</td>\n",
       "      <td>mumbai</td>\n",
       "      <td>8.500000</td>\n",
       "      <td>0.600000</td>\n",
       "      <td>4.800000</td>\n",
       "      <td>27.000000</td>\n",
       "      <td>4.700000</td>\n",
       "    </tr>\n",
       "    <tr>\n",
       "      <th>2</th>\n",
       "      <td>97.044444</td>\n",
       "      <td>mumbai</td>\n",
       "      <td>13.400000</td>\n",
       "      <td>9.564045</td>\n",
       "      <td>24.888235</td>\n",
       "      <td>37.000000</td>\n",
       "      <td>19.800000</td>\n",
       "    </tr>\n",
       "    <tr>\n",
       "      <th>3</th>\n",
       "      <td>45.000000</td>\n",
       "      <td>mumbai</td>\n",
       "      <td>1.700000</td>\n",
       "      <td>0.400000</td>\n",
       "      <td>6.100000</td>\n",
       "      <td>47.000000</td>\n",
       "      <td>4.900000</td>\n",
       "    </tr>\n",
       "    <tr>\n",
       "      <th>4</th>\n",
       "      <td>16.000000</td>\n",
       "      <td>mumbai</td>\n",
       "      <td>3.300000</td>\n",
       "      <td>2.900000</td>\n",
       "      <td>14.100000</td>\n",
       "      <td>15.000000</td>\n",
       "      <td>1.700000</td>\n",
       "    </tr>\n",
       "  </tbody>\n",
       "</table>\n",
       "</div>"
      ],
      "text/plain": [
       "        pm25    city         co       no2         o3       pm10        so2\n",
       "0  59.000000  mumbai   9.507778  9.564045  24.888235  76.780488   5.409333\n",
       "1  23.000000  mumbai   8.500000  0.600000   4.800000  27.000000   4.700000\n",
       "2  97.044444  mumbai  13.400000  9.564045  24.888235  37.000000  19.800000\n",
       "3  45.000000  mumbai   1.700000  0.400000   6.100000  47.000000   4.900000\n",
       "4  16.000000  mumbai   3.300000  2.900000  14.100000  15.000000   1.700000"
      ]
     },
     "execution_count": 25,
     "metadata": {},
     "output_type": "execute_result"
    }
   ],
   "source": [
    "#handling duplicate rows\n",
    "duplicate_rows = combined_df[combined_df.duplicated()]\n",
    "print(duplicate_rows)\n",
    "\n",
    "combined_df = combined_df.drop_duplicates()\n",
    "combined_df.head(5)"
   ]
  },
  {
   "cell_type": "code",
   "execution_count": 31,
   "metadata": {},
   "outputs": [
    {
     "data": {
      "text/plain": [
       "<matplotlib.axes._subplots.AxesSubplot at 0xa394280>"
      ]
     },
     "execution_count": 31,
     "metadata": {},
     "output_type": "execute_result"
    },
    {
     "data": {
      "image/png": "[encoded data removed]",
      "text/plain": [
       "<Figure size 432x288 with 1 Axes>"
      ]
     },
     "metadata": {},
     "output_type": "display_data"
    }
   ],
   "source": [
    "#visualizing outliers\n",
    "sns.boxplot(x=combined_df['no2'])\n"
   ]
  },
  {
   "cell_type": "code",
   "execution_count": 29,
   "metadata": {},
   "outputs": [
    {
     "data": {
      "text/plain": [
       "<matplotlib.axes._subplots.AxesSubplot at 0xa26bc10>"
      ]
     },
     "execution_count": 29,
     "metadata": {},
     "output_type": "execute_result"
    },
    {
     "data": {
      "image/png": "[encoded data removed]",
      "text/plain": [
       "<Figure size 432x288 with 1 Axes>"
      ]
     },
     "metadata": {},
     "output_type": "display_data"
    }
   ],
   "source": [
    "sns.boxplot(x=combined_df['so2'])\n"
   ]
  },
  {
   "cell_type": "code",
   "execution_count": 30,
   "metadata": {},
   "outputs": [
    {
     "data": {
      "text/plain": [
       "<matplotlib.axes._subplots.AxesSubplot at 0xa3730a0>"
      ]
     },
     "execution_count": 30,
     "metadata": {},
     "output_type": "execute_result"
    },
    {
     "data": {
      "image/png": "[encoded data removed]",
      "text/plain": [
       "<Figure size 432x288 with 1 Axes>"
      ]
     },
     "metadata": {},
     "output_type": "display_data"
    }
   ],
   "source": [
    "sns.boxplot(x=combined_df['pm10'])\n"
   ]
  },
  {
   "cell_type": "code",
   "execution_count": 33,
   "metadata": {},
   "outputs": [],
   "source": [
    "#removing outliers\n",
    "\n",
    "q1=combined_df.quantile(0.25)\n",
    "q3=combined_df.quantile(0.75)\n",
    "IQR = q3-q1\n",
    "combined_df = combined_df[~((combined_df < (q1-1.5 * IQR)) |(combined_df > (q3 + 1.5 * IQR))).any(axis=1)]"
   ]
  },
  {
   "cell_type": "code",
   "execution_count": 35,
   "metadata": {},
   "outputs": [
    {
     "data": {
      "text/plain": [
       "<matplotlib.axes._subplots.AxesSubplot at 0xa3cbdd8>"
      ]
     },
     "execution_count": 35,
     "metadata": {},
     "output_type": "execute_result"
    },
    {
     "data": {
      "image/png": "[encoded data removed]",
      "text/plain": [
       "<Figure size 720x360 with 1 Axes>"
      ]
     },
     "metadata": {},
     "output_type": "display_data"
    }
   ],
   "source": [
    "#composition of examples state wise\n",
    "combined_df.city.value_counts().nlargest(40).plot(kind='bar', figsize=(10,5))\n"
   ]
  },
  {
   "cell_type": "code",
   "execution_count": 37,
   "metadata": {},
   "outputs": [
    {
     "name": "stdout",
     "output_type": "stream",
     "text": [
      "          pm25        co       no2        o3      pm10       so2\n",
      "pm25  1.000000  0.290850  0.237763  0.366449  0.572705  0.374694\n",
      "co    0.290850  1.000000  0.105885  0.153836  0.350927  0.086818\n",
      "no2   0.237763  0.105885  1.000000  0.212454  0.254214  0.187983\n",
      "o3    0.366449  0.153836  0.212454  1.000000  0.220924  0.319443\n",
      "pm10  0.572705  0.350927  0.254214  0.220924  1.000000  0.299140\n",
      "so2   0.374694  0.086818  0.187983  0.319443  0.299140  1.000000\n"
     ]
    },
    {
     "data": {
      "image/png": "[encoded data removed]",
      "text/plain": [
       "<Figure size 1440x720 with 2 Axes>"
      ]
     },
     "metadata": {},
     "output_type": "display_data"
    }
   ],
   "source": [
    "#finding corelation between gases\n",
    "plt.figure(figsize=(20,10))\n",
    "rel= combined_df.corr()\n",
    "sns.heatmap(rel,cmap='BrBG',annot=True)\n",
    "print(rel)"
   ]
  },
  {
   "cell_type": "code",
   "execution_count": 39,
   "metadata": {},
   "outputs": [
    {
     "data": {
      "image/png": "[encoded data removed]",
      "text/plain": [
       "<Figure size 1440x720 with 1 Axes>"
      ]
     },
     "metadata": {},
     "output_type": "display_data"
    }
   ],
   "source": [
    "#so2 vs states\n",
    "fig, ax = plt.subplots(figsize=(20,10))\n",
    "ax.scatter(combined_df['so2'], combined_df['city'])\n",
    "ax.set_xlabel('so2')\n",
    "ax.set_ylabel('city')\n",
    "plt.show()"
   ]
  },
  {
   "cell_type": "code",
   "execution_count": 40,
   "metadata": {},
   "outputs": [
    {
     "data": {
      "image/png": "[encoded data removed]",
      "text/plain": [
       "<Figure size 1440x720 with 1 Axes>"
      ]
     },
     "metadata": {},
     "output_type": "display_data"
    }
   ],
   "source": [
    "#no2 vs states\n",
    "\n",
    "fig, ax = plt.subplots(figsize=(20,10))\n",
    "ax.scatter(combined_df['no2'], combined_df['city'])\n",
    "ax.set_xlabel('no2')\n",
    "ax.set_ylabel('state')\n",
    "plt.show()"
   ]
  },
  {
   "cell_type": "code",
   "execution_count": 41,
   "metadata": {},
   "outputs": [
    {
     "data": {
      "text/html": [
       "<div>\n",
       "<style scoped>\n",
       "    .dataframe tbody tr th:only-of-type {\n",
       "        vertical-align: middle;\n",
       "    }\n",
       "\n",
       "    .dataframe tbody tr th {\n",
       "        vertical-align: top;\n",
       "    }\n",
       "\n",
       "    .dataframe thead th {\n",
       "        text-align: right;\n",
       "    }\n",
       "</style>\n",
       "<table border=\"1\" class=\"dataframe\">\n",
       "  <thead>\n",
       "    <tr style=\"text-align: right;\">\n",
       "      <th></th>\n",
       "      <th>pm25</th>\n",
       "      <th>city</th>\n",
       "      <th>co</th>\n",
       "      <th>no2</th>\n",
       "      <th>o3</th>\n",
       "      <th>pm10</th>\n",
       "      <th>so2</th>\n",
       "    </tr>\n",
       "  </thead>\n",
       "  <tbody>\n",
       "    <tr>\n",
       "      <th>0</th>\n",
       "      <td>59.0</td>\n",
       "      <td>12</td>\n",
       "      <td>9.507778</td>\n",
       "      <td>9.564045</td>\n",
       "      <td>24.888235</td>\n",
       "      <td>76.780488</td>\n",
       "      <td>5.409333</td>\n",
       "    </tr>\n",
       "    <tr>\n",
       "      <th>1</th>\n",
       "      <td>23.0</td>\n",
       "      <td>12</td>\n",
       "      <td>8.500000</td>\n",
       "      <td>0.600000</td>\n",
       "      <td>4.800000</td>\n",
       "      <td>27.000000</td>\n",
       "      <td>4.700000</td>\n",
       "    </tr>\n",
       "    <tr>\n",
       "      <th>3</th>\n",
       "      <td>45.0</td>\n",
       "      <td>12</td>\n",
       "      <td>1.700000</td>\n",
       "      <td>0.400000</td>\n",
       "      <td>6.100000</td>\n",
       "      <td>47.000000</td>\n",
       "      <td>4.900000</td>\n",
       "    </tr>\n",
       "    <tr>\n",
       "      <th>4</th>\n",
       "      <td>16.0</td>\n",
       "      <td>12</td>\n",
       "      <td>3.300000</td>\n",
       "      <td>2.900000</td>\n",
       "      <td>14.100000</td>\n",
       "      <td>15.000000</td>\n",
       "      <td>1.700000</td>\n",
       "    </tr>\n",
       "    <tr>\n",
       "      <th>5</th>\n",
       "      <td>34.0</td>\n",
       "      <td>12</td>\n",
       "      <td>1.600000</td>\n",
       "      <td>5.000000</td>\n",
       "      <td>5.400000</td>\n",
       "      <td>69.000000</td>\n",
       "      <td>6.800000</td>\n",
       "    </tr>\n",
       "    <tr>\n",
       "      <th>...</th>\n",
       "      <td>...</td>\n",
       "      <td>...</td>\n",
       "      <td>...</td>\n",
       "      <td>...</td>\n",
       "      <td>...</td>\n",
       "      <td>...</td>\n",
       "      <td>...</td>\n",
       "    </tr>\n",
       "    <tr>\n",
       "      <th>95</th>\n",
       "      <td>59.0</td>\n",
       "      <td>0</td>\n",
       "      <td>5.800000</td>\n",
       "      <td>4.800000</td>\n",
       "      <td>5.200000</td>\n",
       "      <td>55.000000</td>\n",
       "      <td>2.400000</td>\n",
       "    </tr>\n",
       "    <tr>\n",
       "      <th>97</th>\n",
       "      <td>70.0</td>\n",
       "      <td>0</td>\n",
       "      <td>4.800000</td>\n",
       "      <td>2.800000</td>\n",
       "      <td>8.500000</td>\n",
       "      <td>47.000000</td>\n",
       "      <td>5.800000</td>\n",
       "    </tr>\n",
       "    <tr>\n",
       "      <th>98</th>\n",
       "      <td>42.0</td>\n",
       "      <td>0</td>\n",
       "      <td>5.300000</td>\n",
       "      <td>13.100000</td>\n",
       "      <td>11.700000</td>\n",
       "      <td>40.000000</td>\n",
       "      <td>2.300000</td>\n",
       "    </tr>\n",
       "    <tr>\n",
       "      <th>99</th>\n",
       "      <td>32.0</td>\n",
       "      <td>0</td>\n",
       "      <td>10.100000</td>\n",
       "      <td>4.400000</td>\n",
       "      <td>6.900000</td>\n",
       "      <td>76.780488</td>\n",
       "      <td>3.500000</td>\n",
       "    </tr>\n",
       "    <tr>\n",
       "      <th>100</th>\n",
       "      <td>76.0</td>\n",
       "      <td>1</td>\n",
       "      <td>4.000000</td>\n",
       "      <td>3.500000</td>\n",
       "      <td>38.700000</td>\n",
       "      <td>67.000000</td>\n",
       "      <td>3.200000</td>\n",
       "    </tr>\n",
       "  </tbody>\n",
       "</table>\n",
       "<p>71 rows × 7 columns</p>\n",
       "</div>"
      ],
      "text/plain": [
       "     pm25  city         co        no2         o3       pm10       so2\n",
       "0    59.0    12   9.507778   9.564045  24.888235  76.780488  5.409333\n",
       "1    23.0    12   8.500000   0.600000   4.800000  27.000000  4.700000\n",
       "3    45.0    12   1.700000   0.400000   6.100000  47.000000  4.900000\n",
       "4    16.0    12   3.300000   2.900000  14.100000  15.000000  1.700000\n",
       "5    34.0    12   1.600000   5.000000   5.400000  69.000000  6.800000\n",
       "..    ...   ...        ...        ...        ...        ...       ...\n",
       "95   59.0     0   5.800000   4.800000   5.200000  55.000000  2.400000\n",
       "97   70.0     0   4.800000   2.800000   8.500000  47.000000  5.800000\n",
       "98   42.0     0   5.300000  13.100000  11.700000  40.000000  2.300000\n",
       "99   32.0     0  10.100000   4.400000   6.900000  76.780488  3.500000\n",
       "100  76.0     1   4.000000   3.500000  38.700000  67.000000  3.200000\n",
       "\n",
       "[71 rows x 7 columns]"
      ]
     },
     "execution_count": 41,
     "metadata": {},
     "output_type": "execute_result"
    }
   ],
   "source": [
    "#label encoding for city columns\n",
    "labelencoder = LabelEncoder()\n",
    "combined_df['city'] = labelencoder.fit_transform(combined_df['city'])\n",
    "combined_df\n"
   ]
  },
  {
   "cell_type": "code",
   "execution_count": 42,
   "metadata": {},
   "outputs": [
    {
     "data": {
      "text/plain": [
       "array([12, 12, 12, 12, 12])"
      ]
     },
     "execution_count": 42,
     "metadata": {},
     "output_type": "execute_result"
    }
   ],
   "source": [
    "#Defining x and y feature set\n",
    "X = combined_df[['pm25','co','no2','o3','pm10','so2']].values\n",
    "X[0:5]\n",
    "y = combined_df['city'].values\n",
    "y [0:5]"
   ]
  },
  {
   "cell_type": "code",
   "execution_count": 43,
   "metadata": {},
   "outputs": [
    {
     "data": {
      "text/plain": [
       "array([[-0.84512401,  1.02762333,  0.8182473 ,  0.08243312,  0.87481745,\n",
       "         0.54277777],\n",
       "       [-1.79325483,  0.71788521, -1.48736824, -1.36203799, -1.8281243 ,\n",
       "         0.19785025],\n",
       "       [-1.21384155, -1.37207875, -1.53880965, -1.26855977, -0.74218004,\n",
       "         0.29510425],\n",
       "       [-1.9776136 , -0.88032252, -0.89579203, -0.6933092 , -2.47969086,\n",
       "        -1.26095975],\n",
       "       [-1.50354819, -1.40281351, -0.35565723, -1.3188942 ,  0.45235864,\n",
       "         1.21901725]])"
      ]
     },
     "execution_count": 43,
     "metadata": {},
     "output_type": "execute_result"
    }
   ],
   "source": [
    "#normalizing data\n",
    "\n",
    "X = preprocessing.StandardScaler().fit(X).transform(X.astype(float))\n",
    "X[0:5]"
   ]
  },
  {
   "cell_type": "code",
   "execution_count": 44,
   "metadata": {},
   "outputs": [
    {
     "name": "stdout",
     "output_type": "stream",
     "text": [
      "Train set: (56, 6) (56,)\n",
      "Test set: (15, 6) (15,)\n"
     ]
    }
   ],
   "source": [
    "X_train, X_test, y_train, y_test = train_test_split( X, y, test_size=0.2, random_state=4)\n",
    "print ('Train set:', X_train.shape,  y_train.shape)\n",
    "print ('Test set:', X_test.shape,  y_test.shape)"
   ]
  },
  {
   "cell_type": "code",
   "execution_count": 60,
   "metadata": {},
   "outputs": [
    {
     "data": {
      "text/plain": [
       "KNeighborsClassifier(algorithm='auto', leaf_size=30, metric='minkowski',\n",
       "                     metric_params=None, n_jobs=None, n_neighbors=3, p=2,\n",
       "                     weights='uniform')"
      ]
     },
     "execution_count": 60,
     "metadata": {},
     "output_type": "execute_result"
    }
   ],
   "source": [
    "k = 3\n",
    "#Train Model and Predict  \n",
    "neigh = KNeighborsClassifier(n_neighbors = k).fit(X_train,y_train)\n",
    "neigh"
   ]
  },
  {
   "cell_type": "code",
   "execution_count": 61,
   "metadata": {},
   "outputs": [
    {
     "data": {
      "text/plain": [
       "array([ 0,  0,  0,  2, 13])"
      ]
     },
     "execution_count": 61,
     "metadata": {},
     "output_type": "execute_result"
    }
   ],
   "source": [
    "yhat = neigh.predict(X_test)\n",
    "yhat[0:5]"
   ]
  },
  {
   "cell_type": "code",
   "execution_count": 62,
   "metadata": {},
   "outputs": [
    {
     "name": "stdout",
     "output_type": "stream",
     "text": [
      "Train set Accuracy:  0.44642857142857145\n",
      "Test set Accuracy:  0.4\n"
     ]
    }
   ],
   "source": [
    "print(\"Train set Accuracy: \", metrics.accuracy_score(y_train, neigh.predict(X_train)))\n",
    "print(\"Test set Accuracy: \", metrics.accuracy_score(y_test, yhat))"
   ]
  }
 ],
 "metadata": {
  "kernelspec": {
   "display_name": "Python 3",
   "language": "python",
   "name": "python3"
  },
  "language_info": {
   "codemirror_mode": {
    "name": "ipython",
    "version": 3
   },
   "file_extension": ".py",
   "mimetype": "text/x-python",
   "name": "python",
   "nbconvert_exporter": "python",
   "pygments_lexer": "ipython3",
   "version": "3.8.2"
  }
 },
 "nbformat": 4,
 "nbformat_minor": 4
}
